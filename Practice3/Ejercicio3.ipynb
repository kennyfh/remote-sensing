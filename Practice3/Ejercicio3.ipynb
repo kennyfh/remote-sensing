{
 "cells": [
  {
   "cell_type": "code",
   "execution_count": 1,
   "id": "abaf14cc",
   "metadata": {},
   "outputs": [],
   "source": [
    "# Importación módulos\n",
    "import sys\n",
    "import numpy as np\n",
    "np.set_printoptions(threshold=10000)\n",
    "import cv2 as cv\n",
    "import matplotlib.pyplot as plt\n",
    "%matplotlib inline"
   ]
  },
  {
   "cell_type": "code",
   "execution_count": 2,
   "id": "8236b4ad",
   "metadata": {},
   "outputs": [],
   "source": [
    "# Función filtro\n",
    "def mediana(img):\n",
    "    #rows, colums\n",
    "    r,c = img.shape\n",
    "    imgcopy = img.copy()\n",
    "    resimg = np.zeros((r,c), dtype=int)\n",
    "    posocho = [(-1,-1),(-1,0),(-1,+1),(0,-1),(0,0),(0,+1),(+1,-1),(+1,0),(+1,+1)] # Vecinos que puede tener un pixel en 8-adyacencia\n",
    "    for x in range(1,r-1):\n",
    "        for y in range(1,c-1): # Eliminamos los bordes del bucle\n",
    "            pximg = np.array([imgcopy[x+i,y+j] for i,j in posocho]) # Matriz 3x3 de la seccion de la imagen\n",
    "            resimg[x,y] = np.median(pximg)\n",
    "    return resimg"
   ]
  },
  {
   "cell_type": "code",
   "execution_count": 3,
   "id": "93cee9e8",
   "metadata": {},
   "outputs": [
    {
     "name": "stdout",
     "output_type": "stream",
     "text": [
      "[[ 0  0  0  0  0  0]\n",
      " [ 0 17 18 26 32  0]\n",
      " [ 0 19 19 26 35  0]\n",
      " [ 0 19 20 26 28  0]\n",
      " [ 0 19 19 23 26  0]\n",
      " [ 0  0  0  0  0  0]]\n"
     ]
    }
   ],
   "source": [
    "img = np.array([\n",
    "    [12,14,17,24,32,30],\n",
    "    [19,18,17,26,36,40],\n",
    "    [26,21,17,28,40,42],\n",
    "    [20,19,18,26,33,35],\n",
    "    [14,17,20,23,27,20],\n",
    "    [35,14,22,13,40,21]\n",
    "    ])\n",
    "\n",
    "print(mediana(img))"
   ]
  },
  {
   "cell_type": "code",
   "execution_count": 4,
   "id": "539c01e6",
   "metadata": {},
   "outputs": [],
   "source": [
    "ruta =  '../imgpack/WorldView_1-1_PAN.png' # Consideramos que la imagen es monobanda\n",
    "img2 = cv.imread(ruta,cv.IMREAD_GRAYSCALE) #Transformamos nuestra imagen a escala de grises"
   ]
  },
  {
   "cell_type": "code",
   "execution_count": 6,
   "id": "81f80300",
   "metadata": {},
   "outputs": [
    {
     "data": {
      "text/plain": [
       "True"
      ]
     },
     "execution_count": 6,
     "metadata": {},
     "output_type": "execute_result"
    }
   ],
   "source": [
    "img2_exp = mediana(img2)\n",
    "cv.imwrite(\"ResEJ3.png\", img2_exp)"
   ]
  }
 ],
 "metadata": {
  "kernelspec": {
   "display_name": "Python 3 (ipykernel)",
   "language": "python",
   "name": "python3"
  },
  "language_info": {
   "codemirror_mode": {
    "name": "ipython",
    "version": 3
   },
   "file_extension": ".py",
   "mimetype": "text/x-python",
   "name": "python",
   "nbconvert_exporter": "python",
   "pygments_lexer": "ipython3",
   "version": "3.8.10"
  }
 },
 "nbformat": 4,
 "nbformat_minor": 5
}
