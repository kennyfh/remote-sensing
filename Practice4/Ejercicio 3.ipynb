{
 "cells": [
  {
   "cell_type": "code",
   "execution_count": 26,
   "id": "59280a89",
   "metadata": {},
   "outputs": [],
   "source": [
    "# Importación módulos\n",
    "import sys\n",
    "import numpy as np\n",
    "np.set_printoptions(threshold=10000)\n",
    "import cv2 as cv\n",
    "import matplotlib.pyplot as plt\n",
    "%matplotlib inline"
   ]
  },
  {
   "cell_type": "code",
   "execution_count": 27,
   "id": "ef939b67",
   "metadata": {},
   "outputs": [],
   "source": [
    "# Función máscara (usando bucle)\n",
    "def mascara(img,mask):\n",
    "    resimg = img.copy()\n",
    "    for x in range(img.shape[0]):\n",
    "        for y in range(img.shape[1]):\n",
    "            resimg[x,y] = resimg[x,y]*mask[x,y]\n",
    "    return resimg\n",
    "\n",
    "#Función máscara (usando propiedades Numpy)\n",
    "def mascara2(img,mask):\n",
    "    return np.multiply(mask,img)"
   ]
  },
  {
   "cell_type": "code",
   "execution_count": 29,
   "id": "50a4d747",
   "metadata": {},
   "outputs": [
    {
     "name": "stdout",
     "output_type": "stream",
     "text": [
      "Resultado:\n",
      " [[1 0 1 3]\n",
      " [2 0 1 1]\n",
      " [3 0 1 0]\n",
      " [1 0 1 0]] \n",
      "\n",
      "Resultado (usando Numpy):\n",
      " [[1 0 1 3]\n",
      " [2 0 1 1]\n",
      " [3 0 1 0]\n",
      " [1 0 1 0]] \n",
      "\n"
     ]
    }
   ],
   "source": [
    "img = np.array([\n",
    "        [1,1,1,3],\n",
    "        [2,1,1,1],\n",
    "        [3,2,1,1],\n",
    "        [1,1,1,2],\n",
    "    ])\n",
    "\n",
    "mask = np.array([\n",
    "        [1,0,1,1],\n",
    "        [1,0,1,1],\n",
    "        [1,0,1,0],\n",
    "        [1,0,1,0],   \n",
    "    \n",
    "    ])\n",
    "\n",
    "res = mascara(img,mask)\n",
    "print(f\"Resultado:\\n {res} \\n\")\n",
    "\n",
    "res2 = mascara2(img,mask)\n",
    "print(f\"Resultado (usando Numpy):\\n {res2} \\n\")"
   ]
  }
 ],
 "metadata": {
  "kernelspec": {
   "display_name": "Python 3 (ipykernel)",
   "language": "python",
   "name": "python3"
  },
  "language_info": {
   "codemirror_mode": {
    "name": "ipython",
    "version": 3
   },
   "file_extension": ".py",
   "mimetype": "text/x-python",
   "name": "python",
   "nbconvert_exporter": "python",
   "pygments_lexer": "ipython3",
   "version": "3.8.10"
  }
 },
 "nbformat": 4,
 "nbformat_minor": 5
}
